{
 "cells": [
  {
   "cell_type": "code",
   "execution_count": 1,
   "metadata": {},
   "outputs": [],
   "source": [
    "# Import necessary libraries\n",
    "import os\n",
    "import glob\n",
    "import numpy as np\n",
    "import rasterio\n",
    "from collections import defaultdict"
   ]
  },
  {
   "cell_type": "code",
   "execution_count": 3,
   "metadata": {},
   "outputs": [
    {
     "name": "stdout",
     "output_type": "stream",
     "text": [
      "Combined Train and Validation Data Pixel Value Percentages:\n",
      "Pixel Value 2: 20.89%\n",
      "Pixel Value 4: 6.74%\n",
      "Pixel Value 5: 18.39%\n",
      "Pixel Value 8: 17.16%\n",
      "Pixel Value 1: 1.75%\n",
      "Pixel Value 3: 18.74%\n",
      "Pixel Value 6: 3.09%\n",
      "Pixel Value 7: 12.52%\n",
      "Pixel Value 0: 0.72%\n"
     ]
    }
   ],
   "source": [
    "def calculate_pixel_value_counts(directory):\n",
    "    # Find all TIFF files in the directory\n",
    "    tif_files = glob.glob(os.path.join(directory, '*.tif'))\n",
    "    \n",
    "    pixel_value_counts = defaultdict(int)\n",
    "    total_pixels = 0\n",
    "    \n",
    "    # Loop through each file and process\n",
    "    for tif_file in tif_files:\n",
    "        with rasterio.open(tif_file) as src:\n",
    "            data = src.read(1)  # Read the first band\n",
    "            unique, counts = np.unique(data, return_counts=True)\n",
    "            \n",
    "            for u, c in zip(unique, counts):\n",
    "                pixel_value_counts[u] += c\n",
    "                total_pixels += c\n",
    "    \n",
    "    return pixel_value_counts, total_pixels\n",
    "\n",
    "# Define paths to the directories\n",
    "train_dir = 'global-land-cover-mapping-openearthmap/label/train'\n",
    "val_dir = 'global-land-cover-mapping-openearthmap/label/val'\n",
    "\n",
    "# Calculate pixel value counts for each directory\n",
    "train_counts, train_total_pixels = calculate_pixel_value_counts(train_dir)\n",
    "val_counts, val_total_pixels = calculate_pixel_value_counts(val_dir)\n",
    "\n",
    "# Combine counts from both directories\n",
    "combined_counts = defaultdict(int)\n",
    "total_pixels = train_total_pixels + val_total_pixels\n",
    "\n",
    "for pixel_value, count in train_counts.items():\n",
    "    combined_counts[pixel_value] += count\n",
    "\n",
    "for pixel_value, count in val_counts.items():\n",
    "    combined_counts[pixel_value] += count\n",
    "\n",
    "# Calculate combined percentages\n",
    "combined_percentages = {k: (v / total_pixels) * 100 for k, v in combined_counts.items()}\n",
    "\n",
    "# Print the results\n",
    "print(\"Combined Train and Validation Data Pixel Value Percentages:\")\n",
    "for value, percentage in combined_percentages.items():\n",
    "    print(f\"Pixel Value {value}: {percentage:.2f}%\")"
   ]
  },
  {
   "cell_type": "code",
   "execution_count": null,
   "metadata": {},
   "outputs": [],
   "source": [
    "# 0 - none\n",
    "# 1 - bareland\n",
    "# 2 - rangeland\n",
    "# 3 - developed space\n",
    "# 4 - road\n",
    "# 5 - tree\n",
    "# 6 - water\n",
    "# 7 - agricutural land\n",
    "# 8 - building"
   ]
  }
 ],
 "metadata": {
  "kernelspec": {
   "display_name": "sonnh",
   "language": "python",
   "name": "python3"
  },
  "language_info": {
   "codemirror_mode": {
    "name": "ipython",
    "version": 3
   },
   "file_extension": ".py",
   "mimetype": "text/x-python",
   "name": "python",
   "nbconvert_exporter": "python",
   "pygments_lexer": "ipython3",
   "version": "3.9.19"
  }
 },
 "nbformat": 4,
 "nbformat_minor": 2
}
