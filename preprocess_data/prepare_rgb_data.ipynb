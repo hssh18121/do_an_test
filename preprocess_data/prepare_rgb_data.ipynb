{
 "cells": [
  {
   "cell_type": "code",
   "execution_count": 1,
   "metadata": {},
   "outputs": [],
   "source": [
    "output_path = \"./crop_output\""
   ]
  },
  {
   "cell_type": "code",
   "execution_count": 2,
   "metadata": {},
   "outputs": [
    {
     "name": "stderr",
     "output_type": "stream",
     "text": [
      "2024-05-22 17:45:46.989770: I tensorflow/core/util/port.cc:111] oneDNN custom operations are on. You may see slightly different numerical results due to floating-point round-off errors from different computation orders. To turn them off, set the environment variable `TF_ENABLE_ONEDNN_OPTS=0`.\n",
      "2024-05-22 17:45:47.162036: E tensorflow/compiler/xla/stream_executor/cuda/cuda_dnn.cc:9342] Unable to register cuDNN factory: Attempting to register factory for plugin cuDNN when one has already been registered\n",
      "2024-05-22 17:45:47.162066: E tensorflow/compiler/xla/stream_executor/cuda/cuda_fft.cc:609] Unable to register cuFFT factory: Attempting to register factory for plugin cuFFT when one has already been registered\n",
      "2024-05-22 17:45:47.162997: E tensorflow/compiler/xla/stream_executor/cuda/cuda_blas.cc:1518] Unable to register cuBLAS factory: Attempting to register factory for plugin cuBLAS when one has already been registered\n",
      "2024-05-22 17:45:47.244153: I tensorflow/core/platform/cpu_feature_guard.cc:182] This TensorFlow binary is optimized to use available CPU instructions in performance-critical operations.\n",
      "To enable the following instructions: AVX2 AVX_VNNI FMA, in other operations, rebuild TensorFlow with the appropriate compiler flags.\n"
     ]
    }
   ],
   "source": [
    "import os\n",
    "import cv2\n",
    "import numpy as np\n",
    "from patchify import patchify\n",
    "from tensorflow.keras.utils import to_categorical\n",
    "import tensorflow as tf\n",
    "import matplotlib.pyplot as plt\n",
    "from PIL import Image\n",
    "import tifffile as tiff"
   ]
  },
  {
   "cell_type": "code",
   "execution_count": 4,
   "metadata": {},
   "outputs": [
    {
     "name": "stdout",
     "output_type": "stream",
     "text": [
      "36349\n"
     ]
    }
   ],
   "source": [
    "number_of_original = 0\n",
    "rgb_train_dataset = []\n",
    "rgb_val_dataset = []\n",
    "for folder_name in sorted(os.listdir(output_path)):  # Ensure folders are iterated in sorted order\n",
    "    folder_path = os.path.join(output_path, folder_name)\n",
    "    if os.path.isdir(folder_path) and folder_name=='train':\n",
    "        for image_folder_name in sorted(os.listdir(folder_path)):  # Sort subfolders as well\n",
    "            image_folder_path = os.path.join(folder_path, image_folder_name)\n",
    "            # print(image_folder_path)\n",
    "            if 'rgb' in image_folder_path:\n",
    "                for image_name in sorted(os.listdir(image_folder_path)):  # Sort image filenames\n",
    "                    image_path = os.path.join(image_folder_path, image_name)\n",
    "                    img = cv2.imread(image_path, 1)\n",
    "                    rgb_train_dataset.append(img)\n",
    "                    number_of_original += 1\n",
    "\n",
    "    if os.path.isdir(folder_path) and folder_name=='val':\n",
    "        for image_folder_name in sorted(os.listdir(folder_path)):  # Sort subfolders as well\n",
    "            image_folder_path = os.path.join(folder_path, image_folder_name)\n",
    "            # print(image_folder_path)\n",
    "            if 'rgb' in image_folder_path:\n",
    "                for image_name in sorted(os.listdir(image_folder_path)):  # Sort image filenames\n",
    "                    image_path = os.path.join(image_folder_path, image_name)\n",
    "                    img = cv2.imread(image_path, 1)\n",
    "                    rgb_val_dataset.append(img)\n",
    "                    number_of_original += 1\n",
    "\n",
    "print(number_of_original)"
   ]
  },
  {
   "cell_type": "code",
   "execution_count": 5,
   "metadata": {},
   "outputs": [],
   "source": [
    "rgb_train_dataset = np.array(rgb_train_dataset)\n",
    "rgb_val_dataset = np.array(rgb_val_dataset)"
   ]
  },
  {
   "cell_type": "code",
   "execution_count": 8,
   "metadata": {},
   "outputs": [
    {
     "name": "stdout",
     "output_type": "stream",
     "text": [
      "(31154, 256, 256, 3)\n",
      "(5195, 256, 256, 3)\n"
     ]
    }
   ],
   "source": [
    "print(rgb_train_dataset.shape)\n",
    "print(rgb_val_dataset.shape)"
   ]
  },
  {
   "cell_type": "code",
   "execution_count": 7,
   "metadata": {},
   "outputs": [],
   "source": [
    "# del rgb_dataset"
   ]
  },
  {
   "cell_type": "code",
   "execution_count": 9,
   "metadata": {},
   "outputs": [],
   "source": [
    "save_train_image_dataset_path = './save_data_path/train_image_dataset.npy'\n",
    "save_val_image_dataset_path = './save_data_path/val_image_dataset.npy'"
   ]
  },
  {
   "cell_type": "code",
   "execution_count": 12,
   "metadata": {},
   "outputs": [],
   "source": [
    "os.makedirs('./save_data_path', exist_ok=True)"
   ]
  },
  {
   "cell_type": "code",
   "execution_count": 13,
   "metadata": {},
   "outputs": [],
   "source": [
    "np.save(save_train_image_dataset_path, rgb_train_dataset)\n",
    "np.save(save_val_image_dataset_path, rgb_val_dataset)\n",
    "del rgb_train_dataset, rgb_val_dataset"
   ]
  }
 ],
 "metadata": {
  "kernelspec": {
   "display_name": "sonnh",
   "language": "python",
   "name": "python3"
  },
  "language_info": {
   "codemirror_mode": {
    "name": "ipython",
    "version": 3
   },
   "file_extension": ".py",
   "mimetype": "text/x-python",
   "name": "python",
   "nbconvert_exporter": "python",
   "pygments_lexer": "ipython3",
   "version": "3.9.19"
  }
 },
 "nbformat": 4,
 "nbformat_minor": 2
}
