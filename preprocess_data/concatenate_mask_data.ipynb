{
 "cells": [
  {
   "cell_type": "code",
   "execution_count": 1,
   "metadata": {},
   "outputs": [
    {
     "name": "stderr",
     "output_type": "stream",
     "text": [
      "2024-05-22 19:53:01.386649: I tensorflow/core/util/port.cc:111] oneDNN custom operations are on. You may see slightly different numerical results due to floating-point round-off errors from different computation orders. To turn them off, set the environment variable `TF_ENABLE_ONEDNN_OPTS=0`.\n",
      "2024-05-22 19:53:01.553475: E tensorflow/compiler/xla/stream_executor/cuda/cuda_dnn.cc:9342] Unable to register cuDNN factory: Attempting to register factory for plugin cuDNN when one has already been registered\n",
      "2024-05-22 19:53:01.553502: E tensorflow/compiler/xla/stream_executor/cuda/cuda_fft.cc:609] Unable to register cuFFT factory: Attempting to register factory for plugin cuFFT when one has already been registered\n",
      "2024-05-22 19:53:01.554454: E tensorflow/compiler/xla/stream_executor/cuda/cuda_blas.cc:1518] Unable to register cuBLAS factory: Attempting to register factory for plugin cuBLAS when one has already been registered\n",
      "2024-05-22 19:53:01.635097: I tensorflow/core/platform/cpu_feature_guard.cc:182] This TensorFlow binary is optimized to use available CPU instructions in performance-critical operations.\n",
      "To enable the following instructions: AVX2 AVX_VNNI FMA, in other operations, rebuild TensorFlow with the appropriate compiler flags.\n"
     ]
    }
   ],
   "source": [
    "import os\n",
    "import cv2\n",
    "import numpy as np\n",
    "from patchify import patchify\n",
    "from tensorflow.keras.utils import to_categorical\n",
    "import tensorflow as tf\n",
    "import matplotlib.pyplot as plt\n",
    "from PIL import Image\n",
    "import tifffile as tiff"
   ]
  },
  {
   "cell_type": "code",
   "execution_count": 2,
   "metadata": {},
   "outputs": [],
   "source": [
    "save_train_mask_image_dataset_path = './save_data_path/mask_train_image_dataset.npy'\n",
    "save_val_mask_image_dataset_path = './save_data_path/mask_val_image_dataset.npy'\n",
    "\n",
    "save_mask_chunk1_path = 'save_data_path/mask_chunk1.npy'\n",
    "save_mask_chunk2_path = 'save_data_path/mask_chunk2.npy'\n",
    "save_mask_chunk3_path = 'save_data_path/mask_chunk3.npy'\n",
    "save_mask_chunk4_path = 'save_data_path/mask_chunk4.npy'\n",
    "save_mask_chunk5_path = 'save_data_path/mask_chunk5.npy'\n",
    "save_mask_chunk6_path = 'save_data_path/mask_chunk6.npy'"
   ]
  },
  {
   "cell_type": "code",
   "execution_count": 3,
   "metadata": {},
   "outputs": [
    {
     "name": "stdout",
     "output_type": "stream",
     "text": [
      "(31154, 256, 256, 5)\n"
     ]
    }
   ],
   "source": [
    "temp1 = np.load(save_mask_chunk1_path, mmap_mode='c')\n",
    "temp2 = np.load(save_mask_chunk2_path, mmap_mode='c')\n",
    "temp3 = np.load(save_mask_chunk3_path, mmap_mode='c')\n",
    "temp4 = np.load(save_mask_chunk4_path, mmap_mode='c')\n",
    "temp5 = np.load(save_mask_chunk5_path, mmap_mode='c')\n",
    "temp6 = np.load(save_mask_chunk6_path, mmap_mode='c')\n",
    "\n",
    "mask_train_dataset = np.concatenate((temp1, temp2, temp3, temp4, temp5, temp6), axis=0)\n",
    "np.save(save_train_mask_image_dataset_path, mask_train_dataset)\n",
    "\n",
    "print(mask_train_dataset.shape)\n",
    "\n",
    "del mask_train_dataset"
   ]
  }
 ],
 "metadata": {
  "kernelspec": {
   "display_name": "sonnh",
   "language": "python",
   "name": "python3"
  },
  "language_info": {
   "codemirror_mode": {
    "name": "ipython",
    "version": 3
   },
   "file_extension": ".py",
   "mimetype": "text/x-python",
   "name": "python",
   "nbconvert_exporter": "python",
   "pygments_lexer": "ipython3",
   "version": "3.9.19"
  }
 },
 "nbformat": 4,
 "nbformat_minor": 2
}
